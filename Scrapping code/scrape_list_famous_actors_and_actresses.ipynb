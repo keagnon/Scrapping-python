{
 "cells": [
  {
   "cell_type": "code",
   "execution_count": 14,
   "id": "4b0a9c85-e09b-42a5-9c93-196860e7ec64",
   "metadata": {},
   "outputs": [],
   "source": [
    "import requests\n",
    "from bs4 import BeautifulSoup"
   ]
  },
  {
   "cell_type": "code",
   "execution_count": 15,
   "id": "4ebbd1a7-9c66-4bd4-8720-5e5b8d433233",
   "metadata": {
    "tags": []
   },
   "outputs": [
    {
     "data": {
      "text/plain": [
       "b'<!DOCTYPE html><html lang=\"en\"><head><meta charSet=\"utf-8\"/><title>Actor Phonebook List | Actors You Would Watch Read the Phone Book</title><script type=\"text/javascript\" id=\"rlist\">window.RList = {\"id\":872698,\"name\":\"Actors You Would Watch Read the Phone Book\",\"description\":\"&lt;p&gt;List of actors who you would watch do something as mundane as read the phone book. Some of these guys are leading men, considered some of the &lt;a href=&quot;/crowdranked-list/best-actors&quot;&gt;best actors of a'"
      ]
     },
     "execution_count": 15,
     "metadata": {},
     "output_type": "execute_result"
    }
   ],
   "source": [
    "response= requests.get(\"https://www.ranker.com/list/actor-phonebook-list/carly-kiel?ref=nxtlst&collectionId=1165&li_source=LI&li_medium=desktop-next-list&l=346881\")\n",
    "response.content[0:500]"
   ]
  },
  {
   "cell_type": "code",
   "execution_count": 16,
   "id": "6b1f147f-4207-473d-a361-2303bbdc65a2",
   "metadata": {},
   "outputs": [
    {
     "data": {
      "text/plain": [
       "200"
      ]
     },
     "execution_count": 16,
     "metadata": {},
     "output_type": "execute_result"
    }
   ],
   "source": [
    "response.status_code"
   ]
  },
  {
   "cell_type": "code",
   "execution_count": 18,
   "id": "309ae2b3-a7be-42d7-bb72-71f656ef03aa",
   "metadata": {},
   "outputs": [
    {
     "data": {
      "text/plain": [
       "bytes"
      ]
     },
     "execution_count": 18,
     "metadata": {},
     "output_type": "execute_result"
    }
   ],
   "source": [
    "type(response.content)"
   ]
  },
  {
   "cell_type": "code",
   "execution_count": 19,
   "id": "0ab1b692-8a93-475c-9098-0f0320411572",
   "metadata": {},
   "outputs": [],
   "source": [
    "soup = BeautifulSoup(response.content, \"html.parser\")"
   ]
  },
  {
   "cell_type": "code",
   "execution_count": 29,
   "id": "e1fdd001-5ae9-49dd-ae1e-fc6a1a5017e5",
   "metadata": {
    "tags": []
   },
   "outputs": [
    {
     "name": "stdout",
     "output_type": "stream",
     "text": [
      "4\n"
     ]
    }
   ],
   "source": [
    "#container_html=soup.find('ul',class_=\"gridView_list__fjKMd undefined\").findAll('li',class_=\"listItem_main__8ll0k GridItem_main__33wgr listItem_hasRank__s5vh8 listItem_hasProps__tpE0W listItem_bigGrid__mSpkv GridItem_bigGrid__gcJMW listItem_showInfoIcon__2ZCb5\")\n",
    "#image=container_html.findAll(\"div\")[0].find('a').find('figure').find('img')['src']\n",
    "#non=container_html.find(\"div\",class_=\"listItem_nodeHeader__YP680\").find('div',class_=\"NodeName_main___TNbd\").find(\"div\",class_=\"NodeName_nameWrapper__n32Nb\").find(\"h2\").find(\"a\").text.strip()\n",
    "#age=container_html.find(\"div\",class_=\"listItem_nodeHeader__YP680\").find('div',class_=\"NodeName_main___TNbd\").find('div',class_=\"NodeName_firstProperties__xGMas\").text.strip()\n",
    "#country=soup.find(\"div\",class_=\"GridItem_bottomContentWrapper__mgQqL\").find(\"li\",class_=\"properties_item__STYON\").text.strip()\n",
    "#test=container_html.find('div',class_=\"GridThumbnail_main__EmUPU\")\n",
    "#print(country[11:50])\n",
    "#print(country)\n",
    "container_html=soup.find('body').findAll('ul',class_=\"gridView_list__fjKMd undefined\")[0].findAll('li',class_=\"listItem_main__8ll0k GridItem_main__33wgr listItem_hasRank__s5vh8 listItem_hasProps__tpE0W listItem_bigGrid__mSpkv GridItem_bigGrid__gcJMW listItem_showInfoIcon__2ZCb5\")\n",
    "print(len(container_html))\n",
    "#print(age1)\n"
   ]
  },
  {
   "cell_type": "code",
   "execution_count": 11,
   "id": "28b618dd-4b3d-4f8e-9129-c1f78578de19",
   "metadata": {
    "tags": []
   },
   "outputs": [
    {
     "name": "stdout",
     "output_type": "stream",
     "text": [
      "Alan Rickman\n",
      "Morgan Freeman\n",
      "James Earl Jones\n",
      "Patrick Stewart\n"
     ]
    }
   ],
   "source": [
    "datas=[]\n",
    "for data in container_html:\n",
    "    try:\n",
    "        image=data.find(\"div\",class_=\"listItem_nodeHeader__YP680\").find('div',class_=\"NodeName_main___TNbd\").find(\"div\",class_=\"NodeName_nameWrapper__n32Nb\").find(\"h2\").find(\"a\").text.strip()\n",
    "    except:\n",
    "        image=\"tttttttt\"\n",
    "    print(image)"
   ]
  },
  {
   "cell_type": "code",
   "execution_count": 12,
   "id": "cd5d2d45-6b96-4cb5-8959-0fbc47f67ccc",
   "metadata": {
    "collapsed": true,
    "jupyter": {
     "outputs_hidden": true
    },
    "tags": []
   },
   "outputs": [
    {
     "name": "stdout",
     "output_type": "stream",
     "text": [
      "[<div class=\"gridView_main__nLzaZ\"><ul class=\"gridView_list__fjKMd undefined\"><li class=\"listItem_main__8ll0k GridItem_main__33wgr listItem_hasRank__s5vh8 listItem_hasProps__tpE0W listItem_bigGrid__mSpkv GridItem_bigGrid__gcJMW listItem_showInfoIcon__2ZCb5\" role=\"listitem\"><meta content=\"1\" itemprop=\"position\"/><div class=\"GridItem_imageAndContentWrapper__Lxrc9\"><div class=\"GridThumbnail_main__EmUPU\"><div style=\"width:150px;height:150px\"><div class=\"GridThumbnail_thumbnailWrapper__007iL\"><a href=\"/review/keanu-reeves/1357067?ref=node_name&amp;pos=1&amp;l=693856\" rel=\"noreferrer\" title=\"Keanu Reeves\"><figure class=\"Media_main__ex93e Media_roundedCorners__1e4A_ GridThumbnail_media__Z1mmz\"><img alt=\"Keanu Reeves\" class=\"\" height=\"150\" src=\"https://imgix.ranker.com/user_node_img/68/1357067/original/keanu-reeves-photo-u96?auto=format&amp;q=60&amp;fit=crop&amp;fm=pjpg&amp;dpr=2&amp;crop=faces&amp;h=150&amp;w=150\" width=\"150\"/></figure></a></div><div class=\"GridThumbnail_rankContainer__vE6_I GridThumbnail_hasImage__kNLG_ GridThumbnail_bigGrid__UiCVo\" style=\"height:auto\"><strong class=\"RankBox_main__QVS8M RankBox_isGrid__uKUmm\">1</strong></div></div></div><div data-nosnippet=\"true\"><div class=\"listItem_nodeHeader__YP680\" data-nosnippet=\"true\"><meta content=\"Keanu Reeves\" itemprop=\"name\"/><meta content=\"//www.ranker.com/review/keanu-reeves/1357067\" itemprop=\"url\"/><div class=\"NodeName_main___TNbd\"><div class=\"NodeName_nameWrapper__n32Nb\"><h2><a class=\"listItem_name__Qq_Y8 listItem_nameLink__eLagT\" href=\"/review/keanu-reeves/1357067?ref=node_name&amp;pos=1&amp;l=693856\" rel=\"noreferrer\" target=\"_self\">Keanu Reeves</a></h2></div><div class=\"NodeName_firstProperties__xGMas\">Age: 58</div></div></div><div class=\"GridItem_bigGridVoteButtons__c8JNG\"><div class=\"voteButtons_container__gFR2m listItem_voteButtonContainer__se_ko\"><div class=\"voteButtons_buttonsAndCombinedVotesWrapper__Aql2h\"><div class=\"voteButtons_buttonsWrapper__WbNiU\"><button class=\"voteButtons_voteButtonContainer__QegYB voteButtons_upVote__ryF_g\" data-nosnippet=\"true\" data-testid=\"vote-up-button-1357067\" type=\"button\"><svg class=\"voteButtons_button__zVHc6\" xmlns=\"http://www.w3.org/2000/svg\" xmlns:xlink=\"http://www.w3.org/1999/xlink\"><use xlink:href=\"/img/icons/icons.svg?v=0.0.5#rsvg__arrows--voteUp\"></use></svg></button><button class=\"voteButtons_voteButtonContainer__QegYB voteButtons_downVote__y1WrM\" data-nosnippet=\"true\" data-testid=\"vote-down-button-1357067\" type=\"button\"><svg class=\"voteButtons_button__zVHc6\" xmlns=\"http://www.w3.org/2000/svg\" xmlns:xlink=\"http://www.w3.org/1999/xlink\"><use xlink:href=\"/img/icons/icons.svg?v=0.0.5#rsvg__arrows--voteDown\"></use></svg></button></div><span class=\"voteButtons_combinedVotes__qArD_ voteButtons_isFirstNode__jtGVH\">8,366<!-- --> votes</span></div></div></div></div><svg class=\"listItem_info__OLTgw\" xmlns=\"http://www.w3.org/2000/svg\" xmlns:xlink=\"http://www.w3.org/1999/xlink\"><use xlink:href=\"/img/icons/icons.svg?v=0.0.5#rsvg__ive--info\"></use></svg></div><div class=\"GridItem_bottomContentWrapper__mgQqL\"><ul class=\"listItem_properties__sFwqE\"><li class=\"properties_item__STYON\"><strong>Birthplace<!-- -->: </strong>Beirut, Lebanon</li><li class=\"properties_item__STYON\"><strong>Credits<!-- -->: </strong>The Matrix,  Speed, John Wick, The Devil's Advocate</li></ul><div class=\"container_container__53t32\"><div class=\"container_innerContainer__ulE_r\"><div class=\"richText_container__p5dag richText_italic__TeWpZ listItem_itemDescription__jxHkE undefined\" data-testid=\"RichText\"><span>Keanu Charles Reeves ( kee-AH-noo; born September 2, 1964) is a Canadian actor and musician. He gained fame for his starring roles in several blockbuster films, including comedies from the Bill and</span><span class=\"richText_readMore__spaOL\" role=\"button\"> ...<!-- -->more</span></div></div></div><span></span><div class=\"nodeRelated_main__NF1lN\"><ul class=\"nodeRelated_itemsWrapper__EWX1o nodeRelated_formatColumn__p2kij\"><li class=\"Item_main__9eHYp Item_formatColumn__Jx_HA\"><a class=\"Item_listTitle__DCmtP\" role=\"presentation\">The Keanu Reeves 'Constantine' Is A Better Movie Than You Remember</a></li><li class=\"Item_main__9eHYp Item_formatColumn__Jx_HA\"><div class=\"Item_rankings__a1vAi\"><span class=\"Item_rankingPosition__Mmqnc\">#<!-- -->1</span><span class=\"Item_totalItems__BwiLZ\"> of <!-- -->90</span></div><a class=\"Item_listTitle__DCmtP\" role=\"presentation\">Who Is The Coolest Actor In The World Right Now?</a></li><li class=\"Item_main__9eHYp Item_formatColumn__Jx_HA\"><div class=\"Item_rankings__a1vAi\"><span class=\"Item_rankingPosition__Mmqnc\">#<!-- -->2</span><span class=\"Item_totalItems__BwiLZ\"> of <!-- -->160</span></div><a class=\"Item_listTitle__DCmtP\" role=\"presentation\">The Best Living American Actors</a></li></ul></div></div></li><li class=\"listItem_main__8ll0k GridItem_main__33wgr listItem_hasRank__s5vh8 listItem_hasProps__tpE0W listItem_bigGrid__mSpkv GridItem_bigGrid__gcJMW listItem_showInfoIcon__2ZCb5\" role=\"listitem\"><meta content=\"2\" itemprop=\"position\"/><div class=\"GridItem_imageAndContentWrapper__Lxrc9\"><div class=\"GridThumbnail_main__EmUPU\"><div style=\"width:150px;height:150px\"><div class=\"GridThumbnail_thumbnailWrapper__007iL\"><a href=\"/review/arnold-schwarzenegger/493404?ref=node_name&amp;pos=2&amp;l=693856\" rel=\"noreferrer\" title=\"Arnold Schwarzenegger\"><figure class=\"Media_main__ex93e Media_roundedCorners__1e4A_ GridThumbnail_media__Z1mmz\"><img alt=\"Arnold Schwarzenegger\" class=\"\" height=\"150\" src=\"https://imgix.ranker.com/user_node_img/25/493404/original/arnold-schwarzenegger-photo-u158?auto=format&amp;q=60&amp;fit=crop&amp;fm=pjpg&amp;dpr=2&amp;crop=faces&amp;h=150&amp;w=150\" width=\"150\"/></figure></a></div><div class=\"GridThumbnail_rankContainer__vE6_I GridThumbnail_hasImage__kNLG_ GridThumbnail_bigGrid__UiCVo\" style=\"height:auto\"><strong class=\"RankBox_main__QVS8M RankBox_isGrid__uKUmm\">2</strong></div></div></div><div data-nosnippet=\"true\"><div class=\"listItem_nodeHeader__YP680\" data-nosnippet=\"true\"><meta content=\"Arnold Schwarzenegger\" itemprop=\"name\"/><meta content=\"//www.ranker.com/review/arnold-schwarzenegger/493404\" itemprop=\"url\"/><div class=\"NodeName_main___TNbd\"><div class=\"NodeName_nameWrapper__n32Nb\"><h2><a class=\"listItem_name__Qq_Y8 listItem_nameLink__eLagT\" href=\"/review/arnold-schwarzenegger/493404?ref=node_name&amp;pos=2&amp;l=693856\" rel=\"noreferrer\" target=\"_self\">Arnold Schwarzenegger</a></h2></div><div class=\"NodeName_firstProperties__xGMas\">Age: 75</div></div></div><div class=\"GridItem_bigGridVoteButtons__c8JNG\"><div class=\"voteButtons_container__gFR2m listItem_voteButtonContainer__se_ko\"><div class=\"voteButtons_buttonsAndCombinedVotesWrapper__Aql2h\"><div class=\"voteButtons_buttonsWrapper__WbNiU\"><button class=\"voteButtons_voteButtonContainer__QegYB voteButtons_upVote__ryF_g\" data-nosnippet=\"true\" data-testid=\"vote-up-button-493404\" type=\"button\"><svg class=\"voteButtons_button__zVHc6\" xmlns=\"http://www.w3.org/2000/svg\" xmlns:xlink=\"http://www.w3.org/1999/xlink\"><use xlink:href=\"/img/icons/icons.svg?v=0.0.5#rsvg__arrows--voteUp\"></use></svg></button><button class=\"voteButtons_voteButtonContainer__QegYB voteButtons_downVote__y1WrM\" data-nosnippet=\"true\" data-testid=\"vote-down-button-493404\" type=\"button\"><svg class=\"voteButtons_button__zVHc6\" xmlns=\"http://www.w3.org/2000/svg\" xmlns:xlink=\"http://www.w3.org/1999/xlink\"><use xlink:href=\"/img/icons/icons.svg?v=0.0.5#rsvg__arrows--voteDown\"></use></svg></button></div><span class=\"voteButtons_combinedVotes__qArD_\">12,236<!-- --> votes</span></div></div></div></div><svg class=\"listItem_info__OLTgw\" xmlns=\"http://www.w3.org/2000/svg\" xmlns:xlink=\"http://www.w3.org/1999/xlink\"><use xlink:href=\"/img/icons/icons.svg?v=0.0.5#rsvg__ive--info\"></use></svg></div><div class=\"GridItem_bottomContentWrapper__mgQqL\"><ul class=\"listItem_properties__sFwqE\"><li class=\"properties_item__STYON\"><strong>Birthplace<!-- -->: </strong>Thal, Styria, Austria</li><li class=\"properties_item__STYON\"><strong>Credits<!-- -->: </strong>The Terminator, Predator, Total Recall, Pumping Iron</li></ul><div class=\"container_container__53t32\"><div class=\"container_innerContainer__ulE_r\"><div class=\"richText_container__p5dag richText_italic__TeWpZ listItem_itemDescription__jxHkE undefined\" data-testid=\"RichText\"><span>Arnold Alois Schwarzenegger (; German: [ˈaɐ̯nɔlt ˈʃvaɐ̯tsn̩ˌʔɛɡɐ]; born July 30, 1947) is an Austrian-American politician, actor, filmmaker, and former professional bodybuilder. He served as the 38th</span><span class=\"richText_readMore__spaOL\" role=\"button\"> ...<!-- -->more</span></div></div></div><span></span><div class=\"nodeRelated_main__NF1lN\"><ul class=\"nodeRelated_itemsWrapper__EWX1o nodeRelated_formatColumn__p2kij\"><li class=\"Item_main__9eHYp Item_formatColumn__Jx_HA\"><a class=\"Item_listTitle__DCmtP\" role=\"presentation\">Unbelievably Macho Tales About Arnold Schwarzenegger's Very Manly Life</a></li><li class=\"Item_main__9eHYp Item_formatColumn__Jx_HA\"><div class=\"Item_rankings__a1vAi\"><span class=\"Item_rankingPosition__Mmqnc\">#<!-- -->175</span><span class=\"Item_totalItems__BwiLZ\"> of <!-- -->272</span></div><a class=\"Item_listTitle__DCmtP\" href=\"/list/the-best-actors-working-today/bustermcdermott?ref=list_item_rl&amp;rlf=GRID\">The Best (Male) Actors Working Today</a></li><li class=\"Item_main__9eHYp Item_formatColumn__Jx_HA\"><div class=\"Item_rankings__a1vAi\"><span class=\"Item_rankingPosition__Mmqnc\">#<!-- -->89</span><span class=\"Item_totalItems__BwiLZ\"> of <!-- -->273</span></div><a class=\"Item_listTitle__DCmtP\" role=\"presentation\">The Greatest Male Celebrity Role Models</a></li></ul></div></div></li><li class=\"listItem_main__8ll0k GridItem_main__33wgr listItem_hasRank__s5vh8 listItem_hasProps__tpE0W listItem_bigGrid__mSpkv GridItem_bigGrid__gcJMW listItem_showInfoIcon__2ZCb5\" role=\"listitem\"><meta content=\"3\" itemprop=\"position\"/><div class=\"GridItem_imageAndContentWrapper__Lxrc9\"><div class=\"GridThumbnail_main__EmUPU\"><div style=\"width:150px;height:150px\"><div class=\"GridThumbnail_thumbnailWrapper__007iL\"><a href=\"/review/jackie-chan/1251118?ref=node_name&amp;pos=3&amp;l=693856\" rel=\"noreferrer\" title=\"Jackie Chan\"><figure class=\"Media_main__ex93e Media_roundedCorners__1e4A_ GridThumbnail_media__Z1mmz\"><img alt=\"Jackie Chan\" class=\"lazyload\" data-src=\"https://imgix.ranker.com/user_node_img/63/1251118/original/jackie-chan-athletes-photo-u27?auto=format&amp;q=60&amp;fit=crop&amp;fm=pjpg&amp;dpr=2&amp;crop=faces&amp;h=150&amp;w=150\" height=\"150\" width=\"150\"/></figure></a></div><div class=\"GridThumbnail_rankContainer__vE6_I GridThumbnail_hasImage__kNLG_ GridThumbnail_bigGrid__UiCVo\" style=\"height:auto\"><strong class=\"RankBox_main__QVS8M RankBox_isGrid__uKUmm\">3</strong></div></div></div><div data-nosnippet=\"true\"><div class=\"listItem_nodeHeader__YP680\" data-nosnippet=\"true\"><meta content=\"Jackie Chan\" itemprop=\"name\"/><meta content=\"//www.ranker.com/review/jackie-chan/1251118\" itemprop=\"url\"/><div class=\"NodeName_main___TNbd\"><div class=\"NodeName_nameWrapper__n32Nb\"><h2><a class=\"listItem_name__Qq_Y8 listItem_nameLink__eLagT\" href=\"/review/jackie-chan/1251118?ref=node_name&amp;pos=3&amp;l=693856\" rel=\"noreferrer\" target=\"_self\">Jackie Chan</a></h2></div><div class=\"NodeName_firstProperties__xGMas\">Age: 68</div></div></div><div class=\"GridItem_bigGridVoteButtons__c8JNG\"><div class=\"voteButtons_container__gFR2m listItem_voteButtonContainer__se_ko\"><div class=\"voteButtons_buttonsAndCombinedVotesWrapper__Aql2h\"><div class=\"voteButtons_buttonsWrapper__WbNiU\"><button class=\"voteButtons_voteButtonContainer__QegYB voteButtons_upVote__ryF_g\" data-nosnippet=\"true\" data-testid=\"vote-up-button-1251118\" type=\"button\"><svg class=\"voteButtons_button__zVHc6\" xmlns=\"http://www.w3.org/2000/svg\" xmlns:xlink=\"http://www.w3.org/1999/xlink\"><use xlink:href=\"/img/icons/icons.svg?v=0.0.5#rsvg__arrows--voteUp\"></use></svg></button><button class=\"voteButtons_voteButtonContainer__QegYB voteButtons_downVote__y1WrM\" data-nosnippet=\"true\" data-testid=\"vote-down-button-1251118\" type=\"button\"><svg class=\"voteButtons_button__zVHc6\" xmlns=\"http://www.w3.org/2000/svg\" xmlns:xlink=\"http://www.w3.org/1999/xlink\"><use xlink:href=\"/img/icons/icons.svg?v=0.0.5#rsvg__arrows--voteDown\"></use></svg></button></div><span class=\"voteButtons_combinedVotes__qArD_\">9,811<!-- --> votes</span></div></div></div></div><svg class=\"listItem_info__OLTgw\" xmlns=\"http://www.w3.org/2000/svg\" xmlns:xlink=\"http://www.w3.org/1999/xlink\"><use xlink:href=\"/img/icons/icons.svg?v=0.0.5#rsvg__ive--info\"></use></svg></div><div class=\"GridItem_bottomContentWrapper__mgQqL\"><ul class=\"listItem_properties__sFwqE\"><li class=\"properties_item__STYON\"><strong>Birthplace<!-- -->: </strong>Victoria Peak, Hong Kong</li><li class=\"properties_item__STYON\"><strong>Credits<!-- -->: </strong>Police Story, Rumble in the Bronx, Drunken Master, Rush Hour,</li></ul><div class=\"container_container__53t32\"><div class=\"container_innerContainer__ulE_r\"><div class=\"richText_container__p5dag richText_italic__TeWpZ listItem_itemDescription__jxHkE undefined\" data-testid=\"RichText\"><span>Chan Kong-sang (born 7 April 1954), known professionally as Jackie Chan, is a Hong Konger martial artist, actor, film director, producer, stuntman, and singer. He is known for his acrobatic fighting</span><span class=\"richText_readMore__spaOL\" role=\"button\"> ...<!-- -->more</span></div></div></div><span></span><div class=\"nodeRelated_main__NF1lN\"><ul class=\"nodeRelated_itemsWrapper__EWX1o nodeRelated_formatColumn__p2kij\"><li class=\"Item_main__9eHYp Item_formatColumn__Jx_HA\"><a class=\"Item_listTitle__DCmtP\" role=\"presentation\">9 Insane Movie Scenes That Nearly Killed Jackie Chan</a></li><li class=\"Item_main__9eHYp Item_formatColumn__Jx_HA\"><div class=\"Item_rankings__a1vAi\"><span class=\"Item_rankingPosition__Mmqnc\">#<!-- -->212</span><span class=\"Item_totalItems__BwiLZ\"> of <!-- -->1,883</span></div><a class=\"Item_listTitle__DCmtP\" role=\"presentation\">The Greatest Actors &amp; Actresses in Entertainment History</a></li><li class=\"Item_main__9eHYp Item_formatColumn__Jx_HA\"><div class=\"Item_rankings__a1vAi\"><span class=\"Item_rankingPosition__Mmqnc\">#<!-- -->80</span><span class=\"Item_totalItems__BwiLZ\"> of <!-- -->885</span></div><a class=\"Item_listTitle__DCmtP\" href=\"/list/greatest-entertainers-of-all-time/celebrity-lists?ref=list_item_rl&amp;rlf=GRID\">The Greatest Entertainers Of All Time</a></li></ul></div></div></li><li data-testid=\"ADS_TEST_ID\"></li><li class=\"listItem_main__8ll0k GridItem_main__33wgr listItem_hasRank__s5vh8 listItem_hasProps__tpE0W listItem_bigGrid__mSpkv GridItem_bigGrid__gcJMW listItem_showInfoIcon__2ZCb5\" role=\"listitem\"><meta content=\"4\" itemprop=\"position\"/><div class=\"GridItem_imageAndContentWrapper__Lxrc9\"><div class=\"GridThumbnail_main__EmUPU\"><div style=\"width:150px;height:150px\"><div class=\"GridThumbnail_thumbnailWrapper__007iL\"><a href=\"/review/bruce-lee/635699?ref=node_name&amp;pos=4&amp;l=693856\" rel=\"noreferrer\" title=\"Bruce Lee\"><figure class=\"Media_main__ex93e Media_roundedCorners__1e4A_ GridThumbnail_media__Z1mmz\"><img alt=\"Bruce Lee\" class=\"lazyload\" data-src=\"https://imgix.ranker.com/user_node_img/32/635699/original/bruce-lee-photo-u33?auto=format&amp;q=60&amp;fit=crop&amp;fm=pjpg&amp;dpr=2&amp;crop=faces&amp;h=150&amp;w=150\" height=\"150\" width=\"150\"/></figure></a></div><div class=\"GridThumbnail_rankContainer__vE6_I GridThumbnail_hasImage__kNLG_ GridThumbnail_bigGrid__UiCVo\" style=\"height:auto\"><strong class=\"RankBox_main__QVS8M RankBox_isGrid__uKUmm\">4</strong></div></div></div><div data-nosnippet=\"true\"><div class=\"listItem_nodeHeader__YP680\" data-nosnippet=\"true\"><meta content=\"Bruce Lee\" itemprop=\"name\"/><meta content=\"//www.ranker.com/review/bruce-lee/635699\" itemprop=\"url\"/><div class=\"NodeName_main___TNbd\"><div class=\"NodeName_nameWrapper__n32Nb\"><h2><a class=\"listItem_name__Qq_Y8 listItem_nameLink__eLagT\" href=\"/review/bruce-lee/635699?ref=node_name&amp;pos=4&amp;l=693856\" rel=\"noreferrer\" target=\"_self\">Bruce Lee</a></h2></div><div class=\"NodeName_firstProperties__xGMas\">Dec. at 32 (1940-1973)</div></div></div><div class=\"GridItem_bigGridVoteButtons__c8JNG\"><div class=\"voteButtons_container__gFR2m listItem_voteButtonContainer__se_ko\"><div class=\"voteButtons_buttonsAndCombinedVotesWrapper__Aql2h\"><div class=\"voteButtons_buttonsWrapper__WbNiU\"><button class=\"voteButtons_voteButtonContainer__QegYB voteButtons_upVote__ryF_g\" data-nosnippet=\"true\" data-testid=\"vote-up-button-635699\" type=\"button\"><svg class=\"voteButtons_button__zVHc6\" xmlns=\"http://www.w3.org/2000/svg\" xmlns:xlink=\"http://www.w3.org/1999/xlink\"><use xlink:href=\"/img/icons/icons.svg?v=0.0.5#rsvg__arrows--voteUp\"></use></svg></button><button class=\"voteButtons_voteButtonContainer__QegYB voteButtons_downVote__y1WrM\" data-nosnippet=\"true\" data-testid=\"vote-down-button-635699\" type=\"button\"><svg class=\"voteButtons_button__zVHc6\" xmlns=\"http://www.w3.org/2000/svg\" xmlns:xlink=\"http://www.w3.org/1999/xlink\"><use xlink:href=\"/img/icons/icons.svg?v=0.0.5#rsvg__arrows--voteDown\"></use></svg></button></div><span class=\"voteButtons_combinedVotes__qArD_\">9,641<!-- --> votes</span></div></div></div></div><svg class=\"listItem_info__OLTgw\" xmlns=\"http://www.w3.org/2000/svg\" xmlns:xlink=\"http://www.w3.org/1999/xlink\"><use xlink:href=\"/img/icons/icons.svg?v=0.0.5#rsvg__ive--info\"></use></svg></div><div class=\"GridItem_bottomContentWrapper__mgQqL\"><ul class=\"listItem_properties__sFwqE\"><li class=\"properties_item__STYON\"><strong>Birthplace<!-- -->: </strong>Chinatown, California, United States of America</li><li class=\"properties_item__STYON\"><strong>Credits<!-- -->: </strong>The Big Boss, The Way of the Dragon, The Chinese Connection, Enter the Dragon</li></ul><div class=\"container_container__53t32\"><div class=\"container_innerContainer__ulE_r\"><div class=\"richText_container__p5dag richText_italic__TeWpZ listItem_itemDescription__jxHkE undefined\" data-testid=\"RichText\"><span>Lee Jun-fan (Chinese: 李振藩; November 27, 1940 – July 20, 1973), known professionally as Bruce Lee (Chinese: 李小龍), was a Hong Kong-American actor, director, martial artist, martial arts instructor, and</span><span class=\"richText_readMore__spaOL\" role=\"button\"> ...<!-- -->more</span></div></div></div><span></span><div class=\"nodeRelated_main__NF1lN\"><ul class=\"nodeRelated_itemsWrapper__EWX1o nodeRelated_formatColumn__p2kij\"><li class=\"Item_main__9eHYp Item_formatColumn__Jx_HA\"><a class=\"Item_listTitle__DCmtP\" role=\"presentation\">Bruce Lee Stories That Show How Man Became Legend</a></li><li class=\"Item_main__9eHYp Item_formatColumn__Jx_HA\"><div class=\"Item_rankings__a1vAi\"><span class=\"Item_rankingPosition__Mmqnc\">#<!-- -->253</span><span class=\"Item_totalItems__BwiLZ\"> of <!-- -->643</span></div><a class=\"Item_listTitle__DCmtP\" href=\"/crowdranked-list/best-actors?ref=list_item_rl&amp;rlf=GRID\">The Best Actors In Film History</a></li><li class=\"Item_main__9eHYp Item_formatColumn__Jx_HA\"><div class=\"Item_rankings__a1vAi\"><span class=\"Item_rankingPosition__Mmqnc\">#<!-- -->26</span><span class=\"Item_totalItems__BwiLZ\"> of <!-- -->289</span></div><a class=\"Item_listTitle__DCmtP\" role=\"presentation\">The Coolest Actors Ever</a></li></ul></div></div></li><div style=\"visibility:hidden;height:0\"></div></ul><div class=\"container_container__53t32\"><div class=\"container_innerContainer__ulE_r\"><div class=\"paginationButton_pagination__rg1Dj\" data-nosnippet=\"true\"><button class=\"sc-81a1fbb4-0 copewu button_main__b1K6d button_large__mns0w button_tertiary__jtYJm button_isFullWidth__bQMs4\" type=\"button\">load more<svg class=\"paginationButton_chevron__yJDyY\" xmlns=\"http://www.w3.org/2000/svg\" xmlns:xlink=\"http://www.w3.org/1999/xlink\"><use xlink:href=\"/img/icons/icons.svg?v=0.0.5#rsvg__arrows--chevronDown\"></use></svg></button></div></div></div></div>]\n"
     ]
    }
   ],
   "source": [
    "response1= requests.get(\"https://www.ranker.com/crowdranked-list/best-action-stars?ref=listed_on&pos=8\")\n",
    "soup1 = BeautifulSoup(response1.content, \"html.parser\")\n",
    "container_html1=soup1.findAll('div',class_=\"gridView_main__nLzaZ\")\n",
    "#len(container_html1)\n",
    "print(container_html1)"
   ]
  },
  {
   "cell_type": "code",
   "execution_count": null,
   "id": "240b6146-2582-4cdd-b565-25392e520205",
   "metadata": {},
   "outputs": [],
   "source": [
    "response= requests.get(\"https://www.ranker.com/list/actor-phonebook-list/carly-kiel?ref=nxtlst&collectionId=1165&li_source=LI&li_medium=desktop-next-list&l=346881\")\n",
    "response.content[0:500]"
   ]
  }
 ],
 "metadata": {
  "kernelspec": {
   "display_name": "Python 3",
   "language": "python",
   "name": "python3"
  },
  "language_info": {
   "codemirror_mode": {
    "name": "ipython",
    "version": 3
   },
   "file_extension": ".py",
   "mimetype": "text/x-python",
   "name": "python",
   "nbconvert_exporter": "python",
   "pygments_lexer": "ipython3",
   "version": "3.9.0"
  },
  "vscode": {
   "interpreter": {
    "hash": "11938c6bc6919ae2720b4d5011047913343b08a43b18698fd82dedb0d4417594"
   }
  }
 },
 "nbformat": 4,
 "nbformat_minor": 5
}
